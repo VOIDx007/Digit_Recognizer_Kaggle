{
 "cells": [
  {
   "cell_type": "code",
   "execution_count": 1,
   "metadata": {},
   "outputs": [
    {
     "name": "stderr",
     "output_type": "stream",
     "text": [
      "D:\\Anaconda\\lib\\site-packages\\tensorflow\\python\\framework\\dtypes.py:516: FutureWarning: Passing (type, 1) or '1type' as a synonym of type is deprecated; in a future version of numpy, it will be understood as (type, (1,)) / '(1,)type'.\n",
      "  _np_qint8 = np.dtype([(\"qint8\", np.int8, 1)])\n",
      "D:\\Anaconda\\lib\\site-packages\\tensorflow\\python\\framework\\dtypes.py:517: FutureWarning: Passing (type, 1) or '1type' as a synonym of type is deprecated; in a future version of numpy, it will be understood as (type, (1,)) / '(1,)type'.\n",
      "  _np_quint8 = np.dtype([(\"quint8\", np.uint8, 1)])\n",
      "D:\\Anaconda\\lib\\site-packages\\tensorflow\\python\\framework\\dtypes.py:518: FutureWarning: Passing (type, 1) or '1type' as a synonym of type is deprecated; in a future version of numpy, it will be understood as (type, (1,)) / '(1,)type'.\n",
      "  _np_qint16 = np.dtype([(\"qint16\", np.int16, 1)])\n",
      "D:\\Anaconda\\lib\\site-packages\\tensorflow\\python\\framework\\dtypes.py:519: FutureWarning: Passing (type, 1) or '1type' as a synonym of type is deprecated; in a future version of numpy, it will be understood as (type, (1,)) / '(1,)type'.\n",
      "  _np_quint16 = np.dtype([(\"quint16\", np.uint16, 1)])\n",
      "D:\\Anaconda\\lib\\site-packages\\tensorflow\\python\\framework\\dtypes.py:520: FutureWarning: Passing (type, 1) or '1type' as a synonym of type is deprecated; in a future version of numpy, it will be understood as (type, (1,)) / '(1,)type'.\n",
      "  _np_qint32 = np.dtype([(\"qint32\", np.int32, 1)])\n",
      "D:\\Anaconda\\lib\\site-packages\\tensorflow\\python\\framework\\dtypes.py:525: FutureWarning: Passing (type, 1) or '1type' as a synonym of type is deprecated; in a future version of numpy, it will be understood as (type, (1,)) / '(1,)type'.\n",
      "  np_resource = np.dtype([(\"resource\", np.ubyte, 1)])\n",
      "D:\\Anaconda\\lib\\site-packages\\tensorboard\\compat\\tensorflow_stub\\dtypes.py:541: FutureWarning: Passing (type, 1) or '1type' as a synonym of type is deprecated; in a future version of numpy, it will be understood as (type, (1,)) / '(1,)type'.\n",
      "  _np_qint8 = np.dtype([(\"qint8\", np.int8, 1)])\n",
      "D:\\Anaconda\\lib\\site-packages\\tensorboard\\compat\\tensorflow_stub\\dtypes.py:542: FutureWarning: Passing (type, 1) or '1type' as a synonym of type is deprecated; in a future version of numpy, it will be understood as (type, (1,)) / '(1,)type'.\n",
      "  _np_quint8 = np.dtype([(\"quint8\", np.uint8, 1)])\n",
      "D:\\Anaconda\\lib\\site-packages\\tensorboard\\compat\\tensorflow_stub\\dtypes.py:543: FutureWarning: Passing (type, 1) or '1type' as a synonym of type is deprecated; in a future version of numpy, it will be understood as (type, (1,)) / '(1,)type'.\n",
      "  _np_qint16 = np.dtype([(\"qint16\", np.int16, 1)])\n",
      "D:\\Anaconda\\lib\\site-packages\\tensorboard\\compat\\tensorflow_stub\\dtypes.py:544: FutureWarning: Passing (type, 1) or '1type' as a synonym of type is deprecated; in a future version of numpy, it will be understood as (type, (1,)) / '(1,)type'.\n",
      "  _np_quint16 = np.dtype([(\"quint16\", np.uint16, 1)])\n",
      "D:\\Anaconda\\lib\\site-packages\\tensorboard\\compat\\tensorflow_stub\\dtypes.py:545: FutureWarning: Passing (type, 1) or '1type' as a synonym of type is deprecated; in a future version of numpy, it will be understood as (type, (1,)) / '(1,)type'.\n",
      "  _np_qint32 = np.dtype([(\"qint32\", np.int32, 1)])\n",
      "D:\\Anaconda\\lib\\site-packages\\tensorboard\\compat\\tensorflow_stub\\dtypes.py:550: FutureWarning: Passing (type, 1) or '1type' as a synonym of type is deprecated; in a future version of numpy, it will be understood as (type, (1,)) / '(1,)type'.\n",
      "  np_resource = np.dtype([(\"resource\", np.ubyte, 1)])\n"
     ]
    }
   ],
   "source": [
    "#importing required libraries\n",
    "import tensorflow as tf\n",
    "import pandas as pd\n",
    "import numpy as np\n",
    "import matplotlib.pyplot as plt"
   ]
  },
  {
   "cell_type": "code",
   "execution_count": 2,
   "metadata": {},
   "outputs": [],
   "source": [
    "#reading the train and test sets\n",
    "train = pd.read_csv(\"digit-recognizer/train.csv\")\n",
    "test = pd.read_csv(\"digit-recognizer/test.csv\")"
   ]
  },
  {
   "cell_type": "code",
   "execution_count": 3,
   "metadata": {},
   "outputs": [],
   "source": [
    "#shifting the label column into a target variable\n",
    "train_Y = train.loc[:,'label']\n",
    "train.drop(labels=['label'],axis=1,inplace=True)"
   ]
  },
  {
   "cell_type": "code",
   "execution_count": 4,
   "metadata": {},
   "outputs": [],
   "source": [
    "#normalizing the values in train and test sets\n",
    "train_X = train/255.0\n",
    "test_X = test/255.0"
   ]
  },
  {
   "cell_type": "code",
   "execution_count": 5,
   "metadata": {},
   "outputs": [],
   "source": [
    "#reshaping the train and test dataframes into 28x28x1 numpy images\n",
    "train_X=train_X.values.reshape(-1,28,28,1)\n",
    "test_X=test_X.values.reshape(-1,28,28,1)"
   ]
  },
  {
   "cell_type": "code",
   "execution_count": 36,
   "metadata": {},
   "outputs": [],
   "source": [
    "#callback function to run till 100% training accuracy is reached\n",
    "class myCallback(tf.keras.callbacks.Callback):\n",
    "    def on_epoch_end(self, epoch, logs={}):\n",
    "        if(logs.get('acc')==1):\n",
    "            print(\"\\n100% train accuracy reached\\n\")\n",
    "            self.model.stop_training=True\n",
    "\n",
    "callback=myCallback()"
   ]
  },
  {
   "cell_type": "code",
   "execution_count": 37,
   "metadata": {},
   "outputs": [],
   "source": [
    "#the model having 2 convolution layers of 3x3 filters and hidden layer having 256 neurons with 10 output neurons\n",
    "my_model = tf.keras.models.Sequential([\n",
    "    tf.keras.layers.Conv2D(64,(3,3),activation='relu', input_shape=(28,28,1)),\n",
    "    tf.keras.layers.MaxPooling2D(2,2),\n",
    "    tf.keras.layers.Conv2D(64,(3,3),activation='relu'),\n",
    "    tf.keras.layers.MaxPooling2D(2,2),\n",
    "    tf.keras.layers.Flatten(),\n",
    "    tf.keras.layers.Dense(256,activation='relu'),\n",
    "    tf.keras.layers.Dense(10,activation=tf.nn.softmax)\n",
    "])"
   ]
  },
  {
   "cell_type": "code",
   "execution_count": 38,
   "metadata": {},
   "outputs": [
    {
     "name": "stdout",
     "output_type": "stream",
     "text": [
      "Model: \"sequential_2\"\n",
      "_________________________________________________________________\n",
      "Layer (type)                 Output Shape              Param #   \n",
      "=================================================================\n",
      "conv2d_4 (Conv2D)            (None, 26, 26, 64)        640       \n",
      "_________________________________________________________________\n",
      "max_pooling2d_4 (MaxPooling2 (None, 13, 13, 64)        0         \n",
      "_________________________________________________________________\n",
      "conv2d_5 (Conv2D)            (None, 11, 11, 64)        36928     \n",
      "_________________________________________________________________\n",
      "max_pooling2d_5 (MaxPooling2 (None, 5, 5, 64)          0         \n",
      "_________________________________________________________________\n",
      "flatten_2 (Flatten)          (None, 1600)              0         \n",
      "_________________________________________________________________\n",
      "dense_4 (Dense)              (None, 256)               409856    \n",
      "_________________________________________________________________\n",
      "dense_5 (Dense)              (None, 10)                2570      \n",
      "=================================================================\n",
      "Total params: 449,994\n",
      "Trainable params: 449,994\n",
      "Non-trainable params: 0\n",
      "_________________________________________________________________\n"
     ]
    }
   ],
   "source": [
    "#compiling the model with categorical loss calculator and printing the summary\n",
    "my_model.compile(optimizer='adam', loss='sparse_categorical_crossentropy', metrics=['acc'])\n",
    "my_model.summary()"
   ]
  },
  {
   "cell_type": "code",
   "execution_count": 39,
   "metadata": {},
   "outputs": [
    {
     "name": "stdout",
     "output_type": "stream",
     "text": [
      "Epoch 1/100\n",
      "42000/42000 [==============================] - 5s 128us/sample - loss: 0.1328 - acc: 0.9586\n",
      "Epoch 2/100\n",
      "42000/42000 [==============================] - 5s 124us/sample - loss: 0.0433 - acc: 0.9868s - loss: 0.0\n",
      "Epoch 3/100\n",
      "42000/42000 [==============================] - 5s 124us/sample - loss: 0.0288 - acc: 0.9905\n",
      "Epoch 4/100\n",
      "42000/42000 [==============================] - 5s 124us/sample - loss: 0.0214 - acc: 0.9928\n",
      "Epoch 5/100\n",
      "42000/42000 [==============================] - 5s 124us/sample - loss: 0.0166 - acc: 0.9950\n",
      "Epoch 6/100\n",
      "42000/42000 [==============================] - 5s 125us/sample - loss: 0.0112 - acc: 0.9960\n",
      "Epoch 7/100\n",
      "42000/42000 [==============================] - 5s 124us/sample - loss: 0.0114 - acc: 0.9963\n",
      "Epoch 8/100\n",
      "42000/42000 [==============================] - 5s 124us/sample - loss: 0.0080 - acc: 0.9977\n",
      "Epoch 9/100\n",
      "42000/42000 [==============================] - 5s 124us/sample - loss: 0.0087 - acc: 0.9970\n",
      "Epoch 10/100\n",
      "42000/42000 [==============================] - 5s 124us/sample - loss: 0.0071 - acc: 0.9977\n",
      "Epoch 11/100\n",
      "42000/42000 [==============================] - 5s 125us/sample - loss: 0.0057 - acc: 0.9982s  -\n",
      "Epoch 12/100\n",
      "42000/42000 [==============================] - 5s 124us/sample - loss: 0.0059 - acc: 0.9983\n",
      "Epoch 13/100\n",
      "42000/42000 [==============================] - 5s 125us/sample - loss: 0.0032 - acc: 0.9992\n",
      "Epoch 14/100\n",
      "42000/42000 [==============================] - 5s 124us/sample - loss: 0.0059 - acc: 0.9979\n",
      "Epoch 15/100\n",
      "42000/42000 [==============================] - 5s 126us/sample - loss: 0.0040 - acc: 0.9987\n",
      "Epoch 16/100\n",
      "42000/42000 [==============================] - 5s 124us/sample - loss: 0.0039 - acc: 0.9989\n",
      "Epoch 17/100\n",
      "42000/42000 [==============================] - 5s 124us/sample - loss: 0.0044 - acc: 0.9988\n",
      "Epoch 18/100\n",
      "42000/42000 [==============================] - 5s 125us/sample - loss: 0.0041 - acc: 0.9988\n",
      "Epoch 19/100\n",
      "42000/42000 [==============================] - 5s 124us/sample - loss: 0.0032 - acc: 0.9990\n",
      "Epoch 20/100\n",
      "42000/42000 [==============================] - 5s 125us/sample - loss: 0.0040 - acc: 0.9989s\n",
      "Epoch 21/100\n",
      "42000/42000 [==============================] - 5s 124us/sample - loss: 0.0042 - acc: 0.9989\n",
      "Epoch 22/100\n",
      "42000/42000 [==============================] - 5s 125us/sample - loss: 0.0036 - acc: 0.9989\n",
      "Epoch 23/100\n",
      "42000/42000 [==============================] - 5s 124us/sample - loss: 0.0015 - acc: 0.9995\n",
      "Epoch 24/100\n",
      "42000/42000 [==============================] - 5s 125us/sample - loss: 0.0033 - acc: 0.9991\n",
      "Epoch 25/100\n",
      "42000/42000 [==============================] - 5s 124us/sample - loss: 0.0034 - acc: 0.9990\n",
      "Epoch 26/100\n",
      "42000/42000 [==============================] - 5s 125us/sample - loss: 0.0027 - acc: 0.9993s - loss: 0.002\n",
      "Epoch 27/100\n",
      "42000/42000 [==============================] - 5s 125us/sample - loss: 0.0019 - acc: 0.9995\n",
      "Epoch 28/100\n",
      "42000/42000 [==============================] - 5s 125us/sample - loss: 0.0060 - acc: 0.9984\n",
      "Epoch 29/100\n",
      "42000/42000 [==============================] - 5s 131us/sample - loss: 0.0021 - acc: 0.9995\n",
      "Epoch 30/100\n",
      "42000/42000 [==============================] - 5s 126us/sample - loss: 0.0034 - acc: 0.9991\n",
      "Epoch 31/100\n",
      "42000/42000 [==============================] - 5s 125us/sample - loss: 0.0018 - acc: 0.9995\n",
      "Epoch 32/100\n",
      "42000/42000 [==============================] - 5s 125us/sample - loss: 6.7626e-04 - acc: 0.9997s - loss: 8.0070\n",
      "Epoch 33/100\n",
      "42000/42000 [==============================] - 5s 125us/sample - loss: 0.0023 - acc: 0.9993s - loss: 0.0024 -\n",
      "Epoch 34/100\n",
      "42000/42000 [==============================] - ETA: 0s - loss: 0.0039 - acc: 0.9989- ETA: 0s - loss: 0.0044 - - 5s 125us/sample - loss: 0.0039 - acc: 0.9989\n",
      "Epoch 35/100\n",
      "42000/42000 [==============================] - 5s 125us/sample - loss: 0.0025 - acc: 0.9992\n",
      "Epoch 36/100\n",
      "42000/42000 [==============================] - 5s 125us/sample - loss: 0.0014 - acc: 0.9996s - loss: 0.0013 - acc: 0.99\n",
      "Epoch 37/100\n",
      "42000/42000 [==============================] - 5s 126us/sample - loss: 0.0022 - acc: 0.9995\n",
      "Epoch 38/100\n",
      "42000/42000 [==============================] - 5s 125us/sample - loss: 0.0046 - acc: 0.9989\n",
      "Epoch 39/100\n",
      "42000/42000 [==============================] - 5s 125us/sample - loss: 0.0029 - acc: 0.9992s - loss: 0.0030 - acc: 0.9\n",
      "Epoch 40/100\n",
      "42000/42000 [==============================] - 5s 125us/sample - loss: 0.0023 - acc: 0.9995s - loss: 0.0022 - ac\n",
      "Epoch 41/100\n",
      "42000/42000 [==============================] - 5s 126us/sample - loss: 0.0036 - acc: 0.9991\n",
      "Epoch 42/100\n",
      "42000/42000 [==============================] - 5s 126us/sample - loss: 0.0041 - acc: 0.9994\n",
      "Epoch 43/100\n",
      "42000/42000 [==============================] - 5s 125us/sample - loss: 0.0030 - acc: 0.9992s - loss: 0.0031 - acc: 0.99 - ETA: 0s - loss: 0.0031 -\n",
      "Epoch 44/100\n",
      "42000/42000 [==============================] - 5s 125us/sample - loss: 0.0019 - acc: 0.9995\n",
      "Epoch 45/100\n",
      "42000/42000 [==============================] - 5s 125us/sample - loss: 0.0022 - acc: 0.9994\n",
      "Epoch 46/100\n",
      "42000/42000 [==============================] - 5s 125us/sample - loss: 0.0017 - acc: 0.9995\n",
      "Epoch 47/100\n",
      "42000/42000 [==============================] - 5s 125us/sample - loss: 0.0023 - acc: 0.9995s - loss: 0.0021 - acc:\n",
      "Epoch 48/100\n",
      "42000/42000 [==============================] - 5s 125us/sample - loss: 0.0015 - acc: 0.9996\n",
      "Epoch 49/100\n",
      "42000/42000 [==============================] - 5s 125us/sample - loss: 0.0027 - acc: 0.9993\n",
      "Epoch 50/100\n",
      "42000/42000 [==============================] - 5s 125us/sample - loss: 0.0031 - acc: 0.9992\n",
      "Epoch 51/100\n",
      "42000/42000 [==============================] - 5s 125us/sample - loss: 6.7732e-04 - acc: 0.9998\n",
      "Epoch 52/100\n",
      "41728/42000 [============================>.] - ETA: 0s - loss: 7.5887e-06 - acc: 1.0000\n",
      "100% train accuracy reached\n",
      "\n",
      "42000/42000 [==============================] - 5s 126us/sample - loss: 7.5398e-06 - acc: 1.0000\n"
     ]
    },
    {
     "data": {
      "text/plain": [
       "<tensorflow.python.keras.callbacks.History at 0x22849825b08>"
      ]
     },
     "execution_count": 39,
     "metadata": {},
     "output_type": "execute_result"
    }
   ],
   "source": [
    "#fitting the model (NOTE: This will take a lot of time 5-10 mins)\n",
    "my_model.fit(train_X,train_Y, epochs=100, callbacks=[callback])"
   ]
  },
  {
   "cell_type": "code",
   "execution_count": 40,
   "metadata": {},
   "outputs": [],
   "source": [
    "#Predicting values from the test set\n",
    "labels = my_model.predict(test_X)"
   ]
  },
  {
   "cell_type": "code",
   "execution_count": 41,
   "metadata": {},
   "outputs": [],
   "source": [
    "sample_submission=pd.read_csv(\"digit-recognizer/sample_submission.csv\")"
   ]
  },
  {
   "cell_type": "code",
   "execution_count": null,
   "metadata": {},
   "outputs": [],
   "source": [
    "#Creating the necessary csv file for submissions -->"
   ]
  },
  {
   "cell_type": "code",
   "execution_count": 42,
   "metadata": {},
   "outputs": [],
   "source": [
    "ImageId = test.index.values+1"
   ]
  },
  {
   "cell_type": "code",
   "execution_count": 43,
   "metadata": {},
   "outputs": [],
   "source": [
    "labels = np.argmax(labels,axis=1)"
   ]
  },
  {
   "cell_type": "code",
   "execution_count": 44,
   "metadata": {},
   "outputs": [],
   "source": [
    "data = {\"ImageID\":ImageId, \"Label\":labels}\n",
    "df = pd.DataFrame(data=data)"
   ]
  },
  {
   "cell_type": "code",
   "execution_count": 45,
   "metadata": {},
   "outputs": [],
   "source": [
    "df.to_csv(\"submission.csv\", index=False)"
   ]
  },
  {
   "cell_type": "code",
   "execution_count": null,
   "metadata": {},
   "outputs": [],
   "source": []
  }
 ],
 "metadata": {
  "kernelspec": {
   "display_name": "Python 3",
   "language": "python",
   "name": "python3"
  },
  "language_info": {
   "codemirror_mode": {
    "name": "ipython",
    "version": 3
   },
   "file_extension": ".py",
   "mimetype": "text/x-python",
   "name": "python",
   "nbconvert_exporter": "python",
   "pygments_lexer": "ipython3",
   "version": "3.7.6"
  }
 },
 "nbformat": 4,
 "nbformat_minor": 4
}
